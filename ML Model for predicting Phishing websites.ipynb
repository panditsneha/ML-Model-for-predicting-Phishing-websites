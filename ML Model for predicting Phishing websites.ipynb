{
 "cells": [
  {
   "cell_type": "markdown",
   "id": "2f3eba6e",
   "metadata": {},
   "source": [
    "### Importing library"
   ]
  },
  {
   "cell_type": "code",
   "execution_count": 1,
   "id": "7331a394",
   "metadata": {},
   "outputs": [],
   "source": [
    "import pandas as pd\n",
    "import numpy as np\n",
    "from sklearn.model_selection import train_test_split\n",
    "from sklearn.metrics import accuracy_score\n",
    "from sklearn.metrics import confusion_matrix \n",
    "import matplotlib.pyplot as plt\n",
    "import seaborn as sns"
   ]
  },
  {
   "cell_type": "markdown",
   "id": "1e97388f",
   "metadata": {},
   "source": [
    "### Reading the csv file"
   ]
  },
  {
   "cell_type": "code",
   "execution_count": 2,
   "id": "e6f5d59d",
   "metadata": {},
   "outputs": [],
   "source": [
    "df = pd.read_csv('Phishing Data.csv')"
   ]
  },
  {
   "cell_type": "code",
   "execution_count": 3,
   "id": "c5ebc1eb",
   "metadata": {
    "scrolled": true
   },
   "outputs": [
    {
     "data": {
      "text/html": [
       "<div>\n",
       "<style scoped>\n",
       "    .dataframe tbody tr th:only-of-type {\n",
       "        vertical-align: middle;\n",
       "    }\n",
       "\n",
       "    .dataframe tbody tr th {\n",
       "        vertical-align: top;\n",
       "    }\n",
       "\n",
       "    .dataframe thead th {\n",
       "        text-align: right;\n",
       "    }\n",
       "</style>\n",
       "<table border=\"1\" class=\"dataframe\">\n",
       "  <thead>\n",
       "    <tr style=\"text-align: right;\">\n",
       "      <th></th>\n",
       "      <th>having_IP_Address</th>\n",
       "      <th>URL_Length</th>\n",
       "      <th>Shortining_Service</th>\n",
       "      <th>having_At_Symbol</th>\n",
       "      <th>double_slash_redirecting</th>\n",
       "      <th>Prefix_Suffix</th>\n",
       "      <th>having_Sub_Domain</th>\n",
       "      <th>SSLfinal_State</th>\n",
       "      <th>Domain_registeration_length</th>\n",
       "      <th>Favicon</th>\n",
       "      <th>...</th>\n",
       "      <th>popUpWidnow</th>\n",
       "      <th>Iframe</th>\n",
       "      <th>age_of_domain</th>\n",
       "      <th>DNSRecord</th>\n",
       "      <th>web_traffic</th>\n",
       "      <th>Page_Rank</th>\n",
       "      <th>Google_Index</th>\n",
       "      <th>Links_pointing_to_page</th>\n",
       "      <th>Statistical_report</th>\n",
       "      <th>Result</th>\n",
       "    </tr>\n",
       "  </thead>\n",
       "  <tbody>\n",
       "    <tr>\n",
       "      <th>0</th>\n",
       "      <td>1</td>\n",
       "      <td>1</td>\n",
       "      <td>0</td>\n",
       "      <td>0</td>\n",
       "      <td>1</td>\n",
       "      <td>-1</td>\n",
       "      <td>-1</td>\n",
       "      <td>-1</td>\n",
       "      <td>0</td>\n",
       "      <td>0</td>\n",
       "      <td>...</td>\n",
       "      <td>0</td>\n",
       "      <td>0</td>\n",
       "      <td>-1</td>\n",
       "      <td>1</td>\n",
       "      <td>-1</td>\n",
       "      <td>-1</td>\n",
       "      <td>0</td>\n",
       "      <td>1</td>\n",
       "      <td>1</td>\n",
       "      <td>1</td>\n",
       "    </tr>\n",
       "    <tr>\n",
       "      <th>1</th>\n",
       "      <td>0</td>\n",
       "      <td>1</td>\n",
       "      <td>0</td>\n",
       "      <td>0</td>\n",
       "      <td>0</td>\n",
       "      <td>-1</td>\n",
       "      <td>0</td>\n",
       "      <td>1</td>\n",
       "      <td>0</td>\n",
       "      <td>0</td>\n",
       "      <td>...</td>\n",
       "      <td>0</td>\n",
       "      <td>0</td>\n",
       "      <td>-1</td>\n",
       "      <td>1</td>\n",
       "      <td>0</td>\n",
       "      <td>-1</td>\n",
       "      <td>0</td>\n",
       "      <td>1</td>\n",
       "      <td>0</td>\n",
       "      <td>1</td>\n",
       "    </tr>\n",
       "    <tr>\n",
       "      <th>2</th>\n",
       "      <td>0</td>\n",
       "      <td>0</td>\n",
       "      <td>0</td>\n",
       "      <td>0</td>\n",
       "      <td>0</td>\n",
       "      <td>-1</td>\n",
       "      <td>-1</td>\n",
       "      <td>-1</td>\n",
       "      <td>0</td>\n",
       "      <td>0</td>\n",
       "      <td>...</td>\n",
       "      <td>0</td>\n",
       "      <td>0</td>\n",
       "      <td>0</td>\n",
       "      <td>1</td>\n",
       "      <td>1</td>\n",
       "      <td>-1</td>\n",
       "      <td>0</td>\n",
       "      <td>0</td>\n",
       "      <td>1</td>\n",
       "      <td>1</td>\n",
       "    </tr>\n",
       "    <tr>\n",
       "      <th>3</th>\n",
       "      <td>0</td>\n",
       "      <td>0</td>\n",
       "      <td>0</td>\n",
       "      <td>0</td>\n",
       "      <td>0</td>\n",
       "      <td>-1</td>\n",
       "      <td>-1</td>\n",
       "      <td>-1</td>\n",
       "      <td>1</td>\n",
       "      <td>0</td>\n",
       "      <td>...</td>\n",
       "      <td>0</td>\n",
       "      <td>0</td>\n",
       "      <td>-1</td>\n",
       "      <td>1</td>\n",
       "      <td>1</td>\n",
       "      <td>-1</td>\n",
       "      <td>0</td>\n",
       "      <td>-1</td>\n",
       "      <td>0</td>\n",
       "      <td>1</td>\n",
       "    </tr>\n",
       "    <tr>\n",
       "      <th>4</th>\n",
       "      <td>0</td>\n",
       "      <td>0</td>\n",
       "      <td>1</td>\n",
       "      <td>0</td>\n",
       "      <td>0</td>\n",
       "      <td>-1</td>\n",
       "      <td>1</td>\n",
       "      <td>1</td>\n",
       "      <td>0</td>\n",
       "      <td>0</td>\n",
       "      <td>...</td>\n",
       "      <td>1</td>\n",
       "      <td>0</td>\n",
       "      <td>-1</td>\n",
       "      <td>1</td>\n",
       "      <td>0</td>\n",
       "      <td>-1</td>\n",
       "      <td>0</td>\n",
       "      <td>1</td>\n",
       "      <td>0</td>\n",
       "      <td>0</td>\n",
       "    </tr>\n",
       "  </tbody>\n",
       "</table>\n",
       "<p>5 rows × 31 columns</p>\n",
       "</div>"
      ],
      "text/plain": [
       "   having_IP_Address  URL_Length  Shortining_Service  having_At_Symbol  \\\n",
       "0                  1           1                   0                 0   \n",
       "1                  0           1                   0                 0   \n",
       "2                  0           0                   0                 0   \n",
       "3                  0           0                   0                 0   \n",
       "4                  0           0                   1                 0   \n",
       "\n",
       "   double_slash_redirecting  Prefix_Suffix  having_Sub_Domain  SSLfinal_State  \\\n",
       "0                         1             -1                 -1              -1   \n",
       "1                         0             -1                  0               1   \n",
       "2                         0             -1                 -1              -1   \n",
       "3                         0             -1                 -1              -1   \n",
       "4                         0             -1                  1               1   \n",
       "\n",
       "   Domain_registeration_length  Favicon  ...  popUpWidnow  Iframe  \\\n",
       "0                            0        0  ...            0       0   \n",
       "1                            0        0  ...            0       0   \n",
       "2                            0        0  ...            0       0   \n",
       "3                            1        0  ...            0       0   \n",
       "4                            0        0  ...            1       0   \n",
       "\n",
       "   age_of_domain  DNSRecord  web_traffic  Page_Rank  Google_Index  \\\n",
       "0             -1          1           -1         -1             0   \n",
       "1             -1          1            0         -1             0   \n",
       "2              0          1            1         -1             0   \n",
       "3             -1          1            1         -1             0   \n",
       "4             -1          1            0         -1             0   \n",
       "\n",
       "   Links_pointing_to_page  Statistical_report  Result  \n",
       "0                       1                   1       1  \n",
       "1                       1                   0       1  \n",
       "2                       0                   1       1  \n",
       "3                      -1                   0       1  \n",
       "4                       1                   0       0  \n",
       "\n",
       "[5 rows x 31 columns]"
      ]
     },
     "execution_count": 3,
     "metadata": {},
     "output_type": "execute_result"
    }
   ],
   "source": [
    "df.head()"
   ]
  },
  {
   "cell_type": "code",
   "execution_count": 4,
   "id": "120270ce",
   "metadata": {},
   "outputs": [
    {
     "data": {
      "text/plain": [
       "(2456, 31)"
      ]
     },
     "execution_count": 4,
     "metadata": {},
     "output_type": "execute_result"
    }
   ],
   "source": [
    "df.shape"
   ]
  },
  {
   "cell_type": "code",
   "execution_count": 5,
   "id": "ba1353bf",
   "metadata": {},
   "outputs": [
    {
     "data": {
      "text/plain": [
       "having_IP_Address              0\n",
       "URL_Length                     0\n",
       "Shortining_Service             0\n",
       "having_At_Symbol               0\n",
       "double_slash_redirecting       0\n",
       "Prefix_Suffix                  0\n",
       "having_Sub_Domain              0\n",
       "SSLfinal_State                 0\n",
       "Domain_registeration_length    0\n",
       "Favicon                        0\n",
       "port                           0\n",
       "HTTPS_token                    0\n",
       "Request_URL                    0\n",
       "URL_of_Anchor                  0\n",
       "Links_in_tags                  0\n",
       "SFH                            0\n",
       "Submitting_to_email            0\n",
       "Abnormal_URL                   0\n",
       "Redirect                       0\n",
       "on_mouseover                   0\n",
       "RightClick                     0\n",
       "popUpWidnow                    0\n",
       "Iframe                         0\n",
       "age_of_domain                  0\n",
       "DNSRecord                      0\n",
       "web_traffic                    0\n",
       "Page_Rank                      0\n",
       "Google_Index                   0\n",
       "Links_pointing_to_page         0\n",
       "Statistical_report             0\n",
       "Result                         0\n",
       "dtype: int64"
      ]
     },
     "execution_count": 5,
     "metadata": {},
     "output_type": "execute_result"
    }
   ],
   "source": [
    "df.isnull().sum()"
   ]
  },
  {
   "cell_type": "markdown",
   "id": "7d58db68",
   "metadata": {},
   "source": [
    "### Splitting the training and testing data\n"
   ]
  },
  {
   "cell_type": "code",
   "execution_count": 6,
   "id": "3122180c",
   "metadata": {},
   "outputs": [],
   "source": [
    "# we are going to seperate the inputs and the output from the dataset\n",
    "\n",
    "y = df['Result'] \n",
    "x = df.drop('Result',axis=1)"
   ]
  },
  {
   "cell_type": "code",
   "execution_count": 7,
   "id": "2fc35ad9",
   "metadata": {},
   "outputs": [],
   "source": [
    "x_train, x_test, y_train, y_test = train_test_split(x,y, test_size=0.2)"
   ]
  },
  {
   "cell_type": "markdown",
   "id": "1654e711",
   "metadata": {},
   "source": [
    "### Now we are going to apply few algorithms as follows to select the best model:\n",
    "1. Decision tree algorithm\n",
    "2. Logistic Regression algorithm\n",
    "3. Random Forest Classifier\n",
    "4. K Neighbors Classifier"
   ]
  },
  {
   "cell_type": "markdown",
   "id": "d7198661",
   "metadata": {},
   "source": [
    "### Applying Decision tree algorithm on the given train and test dataset\n",
    "Decision tree is used to build regression or classification model in the form of tree structure."
   ]
  },
  {
   "cell_type": "code",
   "execution_count": 8,
   "id": "7d333397",
   "metadata": {},
   "outputs": [],
   "source": [
    "from sklearn.tree import DecisionTreeClassifier\n",
    "\n",
    "decision_tree_model = DecisionTreeClassifier()\n",
    "decision_tree_model = decision_tree_model.fit(x_train,y_train)"
   ]
  },
  {
   "cell_type": "code",
   "execution_count": 9,
   "id": "a9995bbf",
   "metadata": {},
   "outputs": [
    {
     "data": {
      "text/plain": [
       "95.9349593495935"
      ]
     },
     "execution_count": 9,
     "metadata": {},
     "output_type": "execute_result"
    }
   ],
   "source": [
    "y_pred1 = decision_tree_model.predict(x_test)\n",
    "acc1 = accuracy_score(y_pred1,y_test)*100\n",
    "acc1"
   ]
  },
  {
   "cell_type": "code",
   "execution_count": 10,
   "id": "6774890f",
   "metadata": {},
   "outputs": [
    {
     "data": {
      "text/plain": [
       "array([[251,   6],\n",
       "       [ 14, 221]], dtype=int64)"
      ]
     },
     "execution_count": 10,
     "metadata": {},
     "output_type": "execute_result"
    }
   ],
   "source": [
    "cm1 = confusion_matrix(y_test, y_pred1) \n",
    "cm1"
   ]
  },
  {
   "cell_type": "code",
   "execution_count": 11,
   "id": "f8965458",
   "metadata": {},
   "outputs": [
    {
     "data": {
      "text/plain": [
       "4.0650406504065035"
      ]
     },
     "execution_count": 11,
     "metadata": {},
     "output_type": "execute_result"
    }
   ],
   "source": [
    "total1 = cm1[0][0]+cm1[0][1]+cm1[1][0]+cm1[1][1]\n",
    "total_false1 = cm1[0][1]+cm1[1][0]\n",
    "error_rate1 = total_false1/total1*100\n",
    "error_rate1"
   ]
  },
  {
   "cell_type": "markdown",
   "id": "6e6f631f",
   "metadata": {},
   "source": [
    "### Finding feature importances of Decision tree model"
   ]
  },
  {
   "cell_type": "code",
   "execution_count": 12,
   "id": "1198f7d2",
   "metadata": {},
   "outputs": [
    {
     "data": {
      "image/png": "[encoded data removed]",
      "text/plain": [
       "<Figure size 720x1080 with 1 Axes>"
      ]
     },
     "metadata": {
      "needs_background": "light"
     },
     "output_type": "display_data"
    }
   ],
   "source": [
    "plt.figure(figsize=(10,15))\n",
    "n_features = x_train.shape[1]\n",
    "plt.barh(range(n_features), decision_tree_model.feature_importances_, align='center')\n",
    "plt.yticks(np.arange(n_features), x_train.columns)\n",
    "plt.xlabel(\"Feature importance\")\n",
    "plt.ylabel(\"Feature\")\n",
    "plt.show()"
   ]
  },
  {
   "cell_type": "markdown",
   "id": "ee740694",
   "metadata": {},
   "source": [
    "### Applying Logistic Regression algorithm on the given train and test dataset\n",
    "Logistic Regression measures the relationship between dependent and independent variable when the dependent variable is catagorical in nature."
   ]
  },
  {
   "cell_type": "code",
   "execution_count": 13,
   "id": "baea3c92",
   "metadata": {},
   "outputs": [],
   "source": [
    "from sklearn.linear_model import LogisticRegression\n",
    "\n",
    "logistic_regression_model = LogisticRegression()\n",
    "logistic_regression_model = logistic_regression_model.fit(x_train,y_train)"
   ]
  },
  {
   "cell_type": "code",
   "execution_count": 14,
   "id": "6c6657ec",
   "metadata": {},
   "outputs": [
    {
     "data": {
      "text/plain": [
       "93.90243902439023"
      ]
     },
     "execution_count": 14,
     "metadata": {},
     "output_type": "execute_result"
    }
   ],
   "source": [
    "y_pred2 = logistic_regression_model.predict(x_test)\n",
    "acc2 = accuracy_score(y_pred2,y_test)*100\n",
    "acc2"
   ]
  },
  {
   "cell_type": "code",
   "execution_count": 15,
   "id": "21292152",
   "metadata": {},
   "outputs": [
    {
     "data": {
      "text/plain": [
       "array([[243,  14],\n",
       "       [ 16, 219]], dtype=int64)"
      ]
     },
     "execution_count": 15,
     "metadata": {},
     "output_type": "execute_result"
    }
   ],
   "source": [
    "cm2 = confusion_matrix(y_test, y_pred2) \n",
    "cm2"
   ]
  },
  {
   "cell_type": "code",
   "execution_count": 16,
   "id": "a830a48e",
   "metadata": {},
   "outputs": [
    {
     "data": {
      "text/plain": [
       "6.097560975609756"
      ]
     },
     "execution_count": 16,
     "metadata": {},
     "output_type": "execute_result"
    }
   ],
   "source": [
    "total2 = cm2[0][0]+cm2[0][1]+cm2[1][0]+cm2[1][1]\n",
    "total_false2 = cm2[0][1]+cm2[1][0]\n",
    "error_rate2 = total_false2/total2*100\n",
    "error_rate2"
   ]
  },
  {
   "cell_type": "markdown",
   "id": "e462eeec",
   "metadata": {},
   "source": [
    "### Applying Random Forest Classifier algorithm on the given train and test dataset\n",
    "It is based on Bagging ensemble technique that contains a set of decision trees and the output is the average of all the decision trees."
   ]
  },
  {
   "cell_type": "code",
   "execution_count": 17,
   "id": "f8c4aa05",
   "metadata": {},
   "outputs": [
    {
     "data": {
      "text/plain": [
       "RandomForestClassifier()"
      ]
     },
     "execution_count": 17,
     "metadata": {},
     "output_type": "execute_result"
    }
   ],
   "source": [
    "from sklearn.ensemble import RandomForestClassifier \n",
    "\n",
    "random_forest_classifier_model = RandomForestClassifier()  \n",
    "random_forest_classifier_model.fit(x_train, y_train)  "
   ]
  },
  {
   "cell_type": "code",
   "execution_count": 18,
   "id": "78d3c4c5",
   "metadata": {},
   "outputs": [
    {
     "data": {
      "text/plain": [
       "97.35772357723577"
      ]
     },
     "execution_count": 18,
     "metadata": {},
     "output_type": "execute_result"
    }
   ],
   "source": [
    "y_pred3 = random_forest_classifier_model.predict(x_test)\n",
    "acc3 = accuracy_score(y_pred3,y_test)*100\n",
    "acc3"
   ]
  },
  {
   "cell_type": "code",
   "execution_count": 19,
   "id": "e01ede0b",
   "metadata": {},
   "outputs": [
    {
     "data": {
      "text/plain": [
       "array([[252,   5],\n",
       "       [  8, 227]], dtype=int64)"
      ]
     },
     "execution_count": 19,
     "metadata": {},
     "output_type": "execute_result"
    }
   ],
   "source": [
    "cm3 = confusion_matrix(y_test, y_pred3) \n",
    "cm3"
   ]
  },
  {
   "cell_type": "code",
   "execution_count": 20,
   "id": "8b82f9a4",
   "metadata": {},
   "outputs": [
    {
     "data": {
      "text/plain": [
       "2.642276422764228"
      ]
     },
     "execution_count": 20,
     "metadata": {},
     "output_type": "execute_result"
    }
   ],
   "source": [
    "total3 = cm3[0][0]+cm3[0][1]+cm3[1][0]+cm3[1][1]\n",
    "total_false3 = cm3[0][1]+cm3[1][0]\n",
    "error_rate3 = total_false3/total3*100\n",
    "error_rate3"
   ]
  },
  {
   "cell_type": "markdown",
   "id": "97e0441e",
   "metadata": {},
   "source": [
    "### Finding feature importances of Random Forest Classifier model"
   ]
  },
  {
   "cell_type": "code",
   "execution_count": 21,
   "id": "f2583431",
   "metadata": {},
   "outputs": [
    {
     "data": {
      "image/png": "[encoded data removed]",
      "text/plain": [
       "<Figure size 720x1080 with 1 Axes>"
      ]
     },
     "metadata": {
      "needs_background": "light"
     },
     "output_type": "display_data"
    }
   ],
   "source": [
    "plt.figure(figsize=(10,15))\n",
    "n_features = x_train.shape[1]\n",
    "plt.barh(range(n_features), random_forest_classifier_model.feature_importances_, align='center')\n",
    "plt.yticks(np.arange(n_features), x_train.columns)\n",
    "plt.xlabel(\"Feature importance\")\n",
    "plt.ylabel(\"Feature\")\n",
    "plt.show()"
   ]
  },
  {
   "cell_type": "markdown",
   "id": "6629ee78",
   "metadata": {},
   "source": [
    "### Applying K Neighbors Classifier algorithm on the given train and test dataset\n",
    "K Neighbors Classifier takes all the data and classifies a new data based on the similarity among data."
   ]
  },
  {
   "cell_type": "code",
   "execution_count": 22,
   "id": "ef2057c0",
   "metadata": {},
   "outputs": [],
   "source": [
    "from sklearn.neighbors import KNeighborsClassifier  \n",
    "KNeighbors_classifier= KNeighborsClassifier()  \n",
    "KNeighbors_classifier = KNeighbors_classifier.fit(x_train, y_train)  "
   ]
  },
  {
   "cell_type": "code",
   "execution_count": 23,
   "id": "93eb546b",
   "metadata": {},
   "outputs": [
    {
     "data": {
      "text/plain": [
       "94.51219512195121"
      ]
     },
     "execution_count": 23,
     "metadata": {},
     "output_type": "execute_result"
    }
   ],
   "source": [
    "y_pred4 = KNeighbors_classifier.predict(x_test)\n",
    "acc4 = accuracy_score(y_pred4,y_test)*100\n",
    "acc4"
   ]
  },
  {
   "cell_type": "code",
   "execution_count": 24,
   "id": "910b3ca7",
   "metadata": {},
   "outputs": [
    {
     "data": {
      "text/plain": [
       "array([[246,  11],\n",
       "       [ 16, 219]], dtype=int64)"
      ]
     },
     "execution_count": 24,
     "metadata": {},
     "output_type": "execute_result"
    }
   ],
   "source": [
    "cm4 = confusion_matrix(y_test, y_pred4) \n",
    "cm4"
   ]
  },
  {
   "cell_type": "code",
   "execution_count": 25,
   "id": "29399f3a",
   "metadata": {},
   "outputs": [
    {
     "data": {
      "text/plain": [
       "5.487804878048781"
      ]
     },
     "execution_count": 25,
     "metadata": {},
     "output_type": "execute_result"
    }
   ],
   "source": [
    "total4 = cm4[0][0]+cm4[0][1]+cm4[1][0]+cm4[1][1]\n",
    "total_false4 = cm4[0][1]+cm4[1][0]\n",
    "error_rate4 = total_false4/total4*100\n",
    "error_rate4"
   ]
  },
  {
   "cell_type": "markdown",
   "id": "07e92e51",
   "metadata": {},
   "source": [
    "### Comparing the results"
   ]
  },
  {
   "cell_type": "code",
   "execution_count": 26,
   "id": "cd1d3acb",
   "metadata": {},
   "outputs": [
    {
     "data": {
      "text/html": [
       "<div>\n",
       "<style scoped>\n",
       "    .dataframe tbody tr th:only-of-type {\n",
       "        vertical-align: middle;\n",
       "    }\n",
       "\n",
       "    .dataframe tbody tr th {\n",
       "        vertical-align: top;\n",
       "    }\n",
       "\n",
       "    .dataframe thead th {\n",
       "        text-align: right;\n",
       "    }\n",
       "</style>\n",
       "<table border=\"1\" class=\"dataframe\">\n",
       "  <thead>\n",
       "    <tr style=\"text-align: right;\">\n",
       "      <th></th>\n",
       "      <th>ML Model</th>\n",
       "      <th>Accuracy score</th>\n",
       "      <th>Error Rate</th>\n",
       "    </tr>\n",
       "  </thead>\n",
       "  <tbody>\n",
       "    <tr>\n",
       "      <th>0</th>\n",
       "      <td>Decision tree algorithm</td>\n",
       "      <td>95.934959</td>\n",
       "      <td>4.065041</td>\n",
       "    </tr>\n",
       "    <tr>\n",
       "      <th>1</th>\n",
       "      <td>Logistic Regression algorithm</td>\n",
       "      <td>93.902439</td>\n",
       "      <td>6.097561</td>\n",
       "    </tr>\n",
       "    <tr>\n",
       "      <th>2</th>\n",
       "      <td>Random Forest Classifier</td>\n",
       "      <td>97.357724</td>\n",
       "      <td>2.642276</td>\n",
       "    </tr>\n",
       "    <tr>\n",
       "      <th>3</th>\n",
       "      <td>K Neighbors Classifier</td>\n",
       "      <td>94.512195</td>\n",
       "      <td>5.487805</td>\n",
       "    </tr>\n",
       "  </tbody>\n",
       "</table>\n",
       "</div>"
      ],
      "text/plain": [
       "                        ML Model  Accuracy score  Error Rate\n",
       "0        Decision tree algorithm       95.934959    4.065041\n",
       "1  Logistic Regression algorithm       93.902439    6.097561\n",
       "2       Random Forest Classifier       97.357724    2.642276\n",
       "3         K Neighbors Classifier       94.512195    5.487805"
      ]
     },
     "execution_count": 26,
     "metadata": {},
     "output_type": "execute_result"
    }
   ],
   "source": [
    "results = pd.DataFrame({ 'ML Model': ['Decision tree algorithm','Logistic Regression algorithm','Random Forest Classifier',\n",
    "'K Neighbors Classifier'],    \n",
    "    'Accuracy score': [acc1,acc2,acc3,acc4],\n",
    "    'Error Rate': [error_rate1,error_rate2,error_rate3,error_rate4]})\n",
    "results"
   ]
  },
  {
   "cell_type": "markdown",
   "id": "c406d789",
   "metadata": {},
   "source": [
    "### From the above calculations we can say that Random Forest Classifier algorithm is the best fit for the given dataset \n",
    "\n",
    "### The reason why we selected Random Forest Classifier:\n",
    "1. It has the highest accuracy \n",
    "2. It has the Lowest error rate\n",
    "3. It is a bagging(parallel) ensemble technique\n",
    "4. It is useful for determining feature importance easily\n",
    "\n",
    "Ensemble technique is used for combining multiple models to obtain better results."
   ]
  },
  {
   "cell_type": "markdown",
   "id": "9eb77765",
   "metadata": {},
   "source": [
    "### Saving Random Forest Classifier model for future deployment"
   ]
  },
  {
   "cell_type": "code",
   "execution_count": 27,
   "id": "bce04eae",
   "metadata": {},
   "outputs": [],
   "source": [
    "import pickle\n",
    "pickle.dump(random_forest_classifier_model, open(\"model.pkl\", \"wb\"))"
   ]
  }
 ],
 "metadata": {
  "kernelspec": {
   "display_name": "Python 3 (ipykernel)",
   "language": "python",
   "name": "python3"
  },
  "language_info": {
   "codemirror_mode": {
    "name": "ipython",
    "version": 3
   },
   "file_extension": ".py",
   "mimetype": "text/x-python",
   "name": "python",
   "nbconvert_exporter": "python",
   "pygments_lexer": "ipython3",
   "version": "3.9.7"
  }
 },
 "nbformat": 4,
 "nbformat_minor": 5
}
